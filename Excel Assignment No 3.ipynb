{
 "cells": [
  {
   "cell_type": "markdown",
   "id": "4267d625",
   "metadata": {},
   "source": [
    "1. How and when to use the AutoSum command in excel?\n",
    "Ans - If we need to sum a column or row of numbers, select a cell next to the numbers we want to sum, click AutoSum on the Home tab, press Enter. When we click on AutoSum, Excel automatically enters the formula that uses the SUM function to sum the numbers."
   ]
  },
  {
   "cell_type": "markdown",
   "id": "ce17b396",
   "metadata": {},
   "source": [
    "2. What is the shortcut key to perform AutoSum?\n",
    "Ans - The shortcut key to perform AutoSum is 'alt' + '=' (press 'alt' key and then press '=' key) in a spreadsheet and it will automatically create a formula to sum all the numbers in continuous range."
   ]
  },
  {
   "cell_type": "markdown",
   "id": "1ea5a440",
   "metadata": {},
   "source": [
    "3. How do you get rid of Formula that omits adjacent cells?\n",
    "Ans - If we want to get rid of formula that omits the adjacent cells, go to File >> Options >> Formulas.\n",
    "On the right side, under Error checking rules, uncheck the field called Formulas which omits cells in a region. After we make this change, Excel will stop showing this error."
   ]
  },
  {
   "cell_type": "markdown",
   "id": "c3b4c5ba",
   "metadata": {},
   "source": [
    "4. How do you select non-adjacent cells in Excel 2016?\n",
    "Ans - To select non-adjacent cells in Excel, hold Ctrl and select the cells."
   ]
  },
  {
   "cell_type": "markdown",
   "id": "11fda951",
   "metadata": {},
   "source": [
    "5. What happens if you choose a column, hold down the Alt key and press the letters\n",
    "ocw in quick succession? \n",
    "Ans - Column Width window will pop up."
   ]
  },
  {
   "cell_type": "markdown",
   "id": "20fecdf1",
   "metadata": {},
   "source": [
    "6. If you right-click on a row reference number and click on Insert, where will the row\n",
    "be added?\n",
    "Ans - It will insert the new row at that particular row reference number. Ex. If we are selecting 7th row then right-click on a row reference number and click on Insert then new row will insert at 7th number."
   ]
  }
 ],
 "metadata": {
  "kernelspec": {
   "display_name": "Python 3 (ipykernel)",
   "language": "python",
   "name": "python3"
  },
  "language_info": {
   "codemirror_mode": {
    "name": "ipython",
    "version": 3
   },
   "file_extension": ".py",
   "mimetype": "text/x-python",
   "name": "python",
   "nbconvert_exporter": "python",
   "pygments_lexer": "ipython3",
   "version": "3.9.12"
  }
 },
 "nbformat": 4,
 "nbformat_minor": 5
}
